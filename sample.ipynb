{
 "cells": [
  {
   "cell_type": "code",
   "execution_count": 3,
   "id": "fbb8de77",
   "metadata": {},
   "outputs": [],
   "source": [
    "import cv2\n",
    "import numpy as np\n",
    "from tensorflow.keras.models import load_model\n",
    "from PyQt5.QtCore import Qt, QTimer\n",
    "from PyQt5.QtGui import QPixmap, QImage\n",
    "from PyQt5.QtWidgets import QApplication, QWidget, QVBoxLayout, QLabel"
   ]
  },
  {
   "cell_type": "code",
   "execution_count": 4,
   "id": "90af83a2",
   "metadata": {},
   "outputs": [],
   "source": [
    "def face_detection(face_cascade, frame, scale_factor):\n",
    "    frame_gray = cv2.cvtColor(frame, cv2.COLOR_BGR2GRAY)\n",
    "    faces = face_cascade.detectMultiScale(frame_gray, scaleFactor=scale_factor, minNeighbors=5, minSize=(30, 30), flags=cv2.CASCADE_SCALE_IMAGE)\n",
    "    return faces\n",
    "\n",
    "def preprocess_image(face, img):\n",
    "    face_rect = cv2.resize(face, (24, 24))\n",
    "    face_rect = face_rect.astype('float32')\n",
    "    face_rect /= 255\n",
    "    return face_rect\n",
    "\n",
    "class MainApp(QWidget):\n",
    "    def __init__(self, *args, **kwargs):\n",
    "        super().__init__(*args, **kwargs)\n",
    "        self.initUI()\n",
    "\n",
    "    def initUI(self):\n",
    "        self.setWindowTitle('Driver Drowsiness Detection')\n",
    "        self.setGeometry(300, 300, 600, 400)\n",
    "\n",
    "        self.face_cascade, self.drowsiness_model = self.load_pretrained_models()\n",
    "        self.capture = cv2.VideoCapture(0)\n",
    "        self.timer = QTimer()\n",
    "        self.timer.timeout.connect(self.update_frame)\n",
    "        self.timer.start(5)\n",
    "\n",
    "        layout = QVBoxLayout()\n",
    "        self.label = QLabel()\n",
    "        self.label.setFixedSize(600, 400)\n",
    "        layout.addWidget(self.label)\n",
    "        self.setLayout(layout)\n",
    "\n",
    "        self.show()\n",
    "\n",
    "    def update_frame(self):\n",
    "        ret, frame = self.capture.read()\n",
    "        if ret:\n",
    "            faces = face_detection(self.face_cascade, frame, 1.3)\n",
    "            for (x, y, w, h) in faces:\n",
    "                cv2.rectangle(frame, (x, y), (x+w, y+h), (0, 255, 0), 2)\n",
    "                face = frame[y:y+h, x:x+w]\n",
    "                face_rect = preprocess_image(face, frame)\n",
    "                face_pred = self.drowsiness_model.predict(np.array([face_rect]))[0]\n",
    "                if face_pred > 0.5:\n",
    "                    label = 'Drowsy'\n",
    "                    color = (0, 0, 255)\n",
    "                else:\n",
    "                    label = 'Awake'\n",
    "                    color = (0, 255, 0)\n",
    "                cv2.putText(frame, label, (x, y), cv2.FONT_HERSHEY_SIMPLEX, 0.5, color, 2)\n",
    "\n",
    "            image = QPixmap.fromImage(self.convert_cv_qt(frame))\n",
    "            self.label.setPixmap(image)\n",
    "            self.label.setAlignment(Qt.AlignCenter)\n",
    "\n",
    "    def convert_cv_qt(self, frame):\n",
    "        return QPixmap.fromImage(QImage(frame.data, frame.shape[1], frame.shape[0], QImage.Format_RGB888).rgbSwapped())\n",
    "\n",
    "    def load_pretrained_models(self):\n",
    "        face_cascade = cv2.CascadeClassifier('haarcascade_frontalface_default.xml')\n",
    "        drowsiness_model = load_model('drowsiness_model.h5')\n",
    "        return face_cascade, drowsiness_model"
   ]
  },
  {
   "cell_type": "code",
   "execution_count": null,
   "id": "05cf7fa2",
   "metadata": {},
   "outputs": [],
   "source": []
  }
 ],
 "metadata": {
  "kernelspec": {
   "display_name": "Python 3 (ipykernel)",
   "language": "python",
   "name": "python3"
  },
  "language_info": {
   "codemirror_mode": {
    "name": "ipython",
    "version": 3
   },
   "file_extension": ".py",
   "mimetype": "text/x-python",
   "name": "python",
   "nbconvert_exporter": "python",
   "pygments_lexer": "ipython3",
   "version": "3.9.13"
  }
 },
 "nbformat": 4,
 "nbformat_minor": 5
}
